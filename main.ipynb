{
 "cells": [
  {
   "cell_type": "markdown",
   "metadata": {},
   "source": [
    "# Main Notebook\n",
    "Notebook contains training for model and eventually trained model. It also includes a way to test new images on the model."
   ]
  },
  {
   "cell_type": "code",
   "execution_count": null,
   "metadata": {},
   "outputs": [],
   "source": [
    "import os\n",
    "\n",
    "pos_folder = r'path\\to\\folder'\n",
    "neg_folder = r'path\\to\\folder'\n",
    "\n",
    "# List to store preprocessed images and labels\n",
    "preprocessed_images = []\n",
    "labels = []\n",
    "\n",
    "# Positive class (golf ball present)\n",
    "for filename in os.listdir(pos_folder):\n",
    "    if filename.lower().endswith(\".jpg\"):\n",
    "        image_path = os.path.join(pos_folder, filename)\n",
    "        preprocessed_image = preprocess_image(image_path)\n",
    "        preprocessed_images.append(preprocessed_image)\n",
    "        labels.append(1)\n",
    "\n",
    "# Negative class (no golf ball)\n",
    "for filename in os.listdir(neg_folder):\n",
    "    if filename.lower().endswith(\".jpg\"):\n",
    "        image_path = os.path.join(neg_folder, filename)\n",
    "        preprocessed_image = preprocess_image(image_path)\n",
    "        preprocessed_images.append(preprocessed_image)\n",
    "        labels.append(0)\n",
    "\n",
    "# Convert lists to NumPy arrays for further processing\n",
    "X = np.array(preprocessed_images)\n",
    "y = np.array(labels)\n",
    "\n",
    "# Verify shapes (should match number of images processed)\n",
    "print(\"X shape:\", X.shape)\n",
    "print(\"y shape:\", y.shape)"
   ]
  },
  {
   "cell_type": "code",
   "execution_count": 113,
   "metadata": {},
   "outputs": [],
   "source": [
    "import numpy as np\n",
    "import pandas as pd\n",
    "from tensorflow.keras.preprocessing.image import load_img, img_to_array\n",
    "from tensorflow.keras.applications.mobilenet_v2 import preprocess_input\n",
    "from sklearn.model_selection import train_test_split\n",
    "\n",
    "# Load CSV with filenames and labels\n",
    "labels_df = pd.read_csv('labels.csv')  # Adjust file path as necessary\n",
    "\n",
    "# Path to your image directory\n",
    "image_dir = r'path\\to\\folder'\n",
    "\n",
    "# Function to load and preprocess images\n",
    "def load_and_preprocess_images(image_dir, labels_df):\n",
    "    images = []\n",
    "    labels = []\n",
    "    for index, row in labels_df.iterrows():\n",
    "        filename = row['filename']  # Assuming CSV has a 'filename' column\n",
    "        label = row['label']  # Assuming CSV has a 'label' column (0 or 1)\n",
    "        img = load_img(image_dir + '\\\\' + filename, target_size=(224, 224))  # Adjust target_size as needed\n",
    "        img = img_to_array(img)\n",
    "        img = preprocess_input(img)\n",
    "        images.append(img)\n",
    "        labels.append(label)\n",
    "    return np.array(images), np.array(labels)\n",
    "\n",
    "# Load images and labels\n",
    "images, labels = load_and_preprocess_images(image_dir, labels_df)\n",
    "\n",
    "# Split data into training, validation, and test sets\n",
    "X_train, X_temp, y_train, y_temp = train_test_split(images, labels, test_size=0.2, random_state=42)\n",
    "X_val, X_test, y_val, y_test = train_test_split(X_temp, y_temp, test_size=0.5, random_state=42)"
   ]
  },
  {
   "cell_type": "code",
   "execution_count": 114,
   "metadata": {},
   "outputs": [],
   "source": [
    "from tensorflow.keras.applications import MobileNetV3Large\n",
    "from tensorflow.keras.models import Model\n",
    "from tensorflow.keras.layers import Dense, GlobalAveragePooling2D\n",
    "from tensorflow.keras.optimizers import Adam\n",
    "\n",
    "# Load pre-trained InceptionV3 model without top layers\n",
    "base_model = MobileNetV3Large(weights='imagenet', include_top=False, input_shape=(224, 224, 3))"
   ]
  },
  {
   "cell_type": "code",
   "execution_count": 115,
   "metadata": {},
   "outputs": [],
   "source": [
    "# Freeze the base model layers\n",
    "for layer in base_model.layers:\n",
    "    layer.trainable = False\n",
    "\n",
    "# Add your custom classifier layers\n",
    "x = base_model.output\n",
    "x = GlobalAveragePooling2D()(x)\n",
    "x = Dense(1024, activation='relu')(x)\n",
    "x = Dense(512, activation='relu')(x)\n",
    "x = Dense(128, activation='relu')(x)\n",
    "predictions = Dense(1, activation='sigmoid')(x)\n",
    "# Combine base model and custom layers into a new model\n",
    "model = Model(inputs=base_model.input, outputs=predictions)"
   ]
  },
  {
   "cell_type": "code",
   "execution_count": 126,
   "metadata": {},
   "outputs": [
    {
     "name": "stdout",
     "output_type": "stream",
     "text": [
      "Epoch 1/10\n",
      "2/2 [==============================] - 10s 2s/step - loss: 0.7209 - accuracy: 0.6607 - val_loss: 0.6892 - val_accuracy: 0.5714\n",
      "Epoch 2/10\n",
      "2/2 [==============================] - 1s 535ms/step - loss: 0.6230 - accuracy: 0.6607 - val_loss: 0.6645 - val_accuracy: 0.4286\n",
      "Epoch 3/10\n",
      "2/2 [==============================] - 1s 503ms/step - loss: 0.6779 - accuracy: 0.4821 - val_loss: 0.6034 - val_accuracy: 0.7143\n",
      "Epoch 4/10\n",
      "2/2 [==============================] - 1s 503ms/step - loss: 0.6220 - accuracy: 0.7143 - val_loss: 0.6148 - val_accuracy: 0.5714\n",
      "Epoch 5/10\n",
      "2/2 [==============================] - 1s 536ms/step - loss: 0.6116 - accuracy: 0.6607 - val_loss: 0.5899 - val_accuracy: 0.7143\n",
      "Epoch 6/10\n",
      "2/2 [==============================] - 1s 511ms/step - loss: 0.5999 - accuracy: 0.6964 - val_loss: 0.5485 - val_accuracy: 0.7143\n",
      "Epoch 7/10\n",
      "2/2 [==============================] - 1s 495ms/step - loss: 0.5798 - accuracy: 0.7321 - val_loss: 0.5145 - val_accuracy: 0.8571\n",
      "Epoch 8/10\n",
      "2/2 [==============================] - 1s 501ms/step - loss: 0.5762 - accuracy: 0.7500 - val_loss: 0.4745 - val_accuracy: 0.8571\n",
      "Epoch 9/10\n",
      "2/2 [==============================] - 1s 524ms/step - loss: 0.5361 - accuracy: 0.7500 - val_loss: 0.4438 - val_accuracy: 0.7143\n",
      "Epoch 10/10\n",
      "2/2 [==============================] - 1s 668ms/step - loss: 0.5545 - accuracy: 0.7500 - val_loss: 0.4052 - val_accuracy: 0.8571\n",
      "1/1 [==============================] - 0s 285ms/step - loss: 0.5461 - accuracy: 0.7500\n",
      "Test Accuracy: 0.75\n"
     ]
    }
   ],
   "source": [
    "# Compile the model\n",
    "model.compile(optimizer=Adam(learning_rate=0.001),\n",
    "              loss='binary_crossentropy',\n",
    "              metrics=['accuracy'])\n",
    "\n",
    "# Train the model\n",
    "history = model.fit(X_train, y_train, epochs=10, batch_size=32, validation_data=(X_val, y_val))\n",
    "\n",
    "# Evaluate the model on the test set\n",
    "test_loss, test_accuracy = model.evaluate(X_test, y_test)\n",
    "print(f\"Test Accuracy: {test_accuracy}\")"
   ]
  },
  {
   "cell_type": "markdown",
   "metadata": {},
   "source": [
    "# Test Model\n",
    "Code to process a new image test model."
   ]
  },
  {
   "cell_type": "code",
   "execution_count": 1,
   "metadata": {},
   "outputs": [
    {
     "ename": "NameError",
     "evalue": "name 'model' is not defined",
     "output_type": "error",
     "traceback": [
      "\u001b[1;31m---------------------------------------------------------------------------\u001b[0m",
      "\u001b[1;31mNameError\u001b[0m                                 Traceback (most recent call last)",
      "Cell \u001b[1;32mIn[1], line 17\u001b[0m\n\u001b[0;32m     14\u001b[0m preprocessed_image \u001b[38;5;241m=\u001b[39m preprocess_image(new_image_path, target_size)\n\u001b[0;32m     16\u001b[0m \u001b[38;5;66;03m# Assuming `model` is your trained Keras model\u001b[39;00m\n\u001b[1;32m---> 17\u001b[0m predictions \u001b[38;5;241m=\u001b[39m \u001b[43mmodel\u001b[49m\u001b[38;5;241m.\u001b[39mpredict(preprocessed_image)\n\u001b[0;32m     19\u001b[0m \u001b[38;5;66;03m# Assuming binary classification (0 or 1)\u001b[39;00m\n\u001b[0;32m     20\u001b[0m predicted_class \u001b[38;5;241m=\u001b[39m predictions[\u001b[38;5;241m0\u001b[39m][\u001b[38;5;241m0\u001b[39m]  \u001b[38;5;66;03m# Accessing the first prediction (single image, single class)\u001b[39;00m\n",
      "\u001b[1;31mNameError\u001b[0m: name 'model' is not defined"
     ]
    }
   ],
   "source": [
    "from tensorflow.keras.preprocessing.image import load_img, img_to_array\n",
    "\n",
    "# Example of loading and preprocessing a single new image\n",
    "def preprocess_image(image_path, target_size=(224, 224)):\n",
    "    img = load_img(image_path, target_size=target_size)\n",
    "    img_array = img_to_array(img)\n",
    "    img_array = img_array.reshape((1,) + img_array.shape)  # Add batch dimension\n",
    "    return img_array\n",
    "\n",
    "# Example usage:\n",
    "new_image_path = r'path\\to\\folder'\n",
    "target_size = (224, 224)  # Adjust according to your model's input size\n",
    "\n",
    "preprocessed_image = preprocess_image(new_image_path, target_size)\n",
    "\n",
    "# Assuming `model` is your trained Keras model\n",
    "predictions = model.predict(preprocessed_image)\n",
    "\n",
    "# Assuming binary classification (0 or 1)\n",
    "predicted_class = predictions[0][0]  # Accessing the first prediction (single image, single class)\n",
    "\n",
    "print(predicted_class)\n",
    "\n",
    "if predicted_class >= 0.5:\n",
    "    print(\"Predicted: Golf ball present\")\n",
    "else:\n",
    "    print(\"Predicted: No golf ball\")"
   ]
  }
 ],
 "metadata": {
  "kernelspec": {
   "display_name": "myenv",
   "language": "python",
   "name": "python3"
  },
  "language_info": {
   "codemirror_mode": {
    "name": "ipython",
    "version": 3
   },
   "file_extension": ".py",
   "mimetype": "text/x-python",
   "name": "python",
   "nbconvert_exporter": "python",
   "pygments_lexer": "ipython3",
   "version": "3.8.19"
  }
 },
 "nbformat": 4,
 "nbformat_minor": 2
}
