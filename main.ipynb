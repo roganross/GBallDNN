{
 "cells": [
  {
   "cell_type": "markdown",
   "metadata": {},
   "source": [
    "# Main Notebook\n",
    "Notebook contains training for model and eventually trained model. It also includes a way to test new images on the model."
   ]
  },
  {
   "cell_type": "markdown",
   "metadata": {},
   "source": [
    "The following snippet labels the images and puts the labels in a CSV file."
   ]
  },
  {
   "cell_type": "code",
   "execution_count": null,
   "metadata": {},
   "outputs": [],
   "source": [
    "import os\n",
    "import pandas as pd\n",
    "\n",
    "def create_label_files(pos_folder, neg_folder):\n",
    "    pos_labels = []\n",
    "    neg_labels = []\n",
    "\n",
    "    # Positive class (golf ball present)\n",
    "    for filename in os.listdir(pos_folder):\n",
    "        if filename.lower().endswith(\".jpg\"):  # Adjust if using other formats\n",
    "            pos_labels.append({\"filename\": filename, \"label\": 1})\n",
    "\n",
    "    # Negative class (no golf ball)\n",
    "    for filename in os.listdir(neg_folder):\n",
    "        if filename.lower().endswith(\".jpg\"):  # Adjust if using other formats\n",
    "            neg_labels.append({\"filename\": filename, \"label\": 0})\n",
    "\n",
    "    pos_df = pd.DataFrame(pos_labels)\n",
    "    neg_df = pd.DataFrame(neg_labels)\n",
    "\n",
    "    return pos_df, neg_df\n",
    "\n",
    "# Folders\n",
    "pos_folder = r'C:\\Users\\rogan\\Documents\\Programming\\GBallDNN\\GBallSet\\1'\n",
    "neg_folder = r'C:\\Users\\rogan\\Documents\\Programming\\GBallDNN\\GBallSet\\0'\n",
    "\n",
    "# Create label DataFrames\n",
    "pos_df, neg_df = create_label_files(pos_folder, neg_folder)\n",
    "\n",
    "# Save DataFrames to CSV files\n",
    "pos_df.to_csv('pos_labels.csv', index=False)\n",
    "neg_df.to_csv('neg_labels.csv', index=False)"
   ]
  },
  {
   "cell_type": "markdown",
   "metadata": {},
   "source": [
    "This snippet pre-processes the images, associating them with their labels and designates training and testing data sets."
   ]
  },
  {
   "cell_type": "code",
   "execution_count": null,
   "metadata": {},
   "outputs": [],
   "source": [
    "import os\n",
    "import numpy as np\n",
    "import pandas as pd\n",
    "from tensorflow.keras.preprocessing.image import load_img, img_to_array\n",
    "from tensorflow.keras.applications.mobilenet_v2 import preprocess_input\n",
    "from sklearn.model_selection import train_test_split\n",
    "\n",
    "# Function to load and preprocess images from multiple directories\n",
    "def load_and_preprocess_images(image_dirs, labels_dfs):\n",
    "    images = []\n",
    "    labels = []\n",
    "    for image_dir, labels_df in zip(image_dirs, labels_dfs):\n",
    "        for index, row in labels_df.iterrows():\n",
    "            filename = row['filename']  # Assuming CSV has a 'filename' column\n",
    "            label = row['label']  # Assuming CSV has a 'label' column (0 or 1)\n",
    "            img_path = os.path.join(image_dir, filename)\n",
    "            img = load_img(img_path, target_size=(224, 224))  # Adjust target_size as needed\n",
    "            img = img_to_array(img)\n",
    "            img = preprocess_input(img)\n",
    "            images.append(img)\n",
    "            labels.append(label)\n",
    "    return np.array(images), np.array(labels)\n",
    "\n",
    "# Define the image directories\n",
    "pos_folder = r'C:\\Users\\rogan\\Documents\\Programming\\GBallDNN\\GBallSet\\1'\n",
    "neg_folder = r'C:\\Users\\rogan\\Documents\\Programming\\GBallDNN\\GBallSet\\0'\n",
    "image_dirs = [pos_folder, neg_folder]\n",
    "\n",
    "# Load the separate label CSV files into DataFrames\n",
    "pos_labels_df = pd.read_csv('pos_labels.csv')\n",
    "neg_labels_df = pd.read_csv('neg_labels.csv')\n",
    "\n",
    "# Put the DataFrames into a list\n",
    "labels_dfs = [pos_labels_df, neg_labels_df]\n",
    "\n",
    "# Load images and labels\n",
    "images, labels = load_and_preprocess_images(image_dirs, labels_dfs)\n",
    "\n",
    "# Split data into training, validation, and test sets\n",
    "X_train, X_temp, y_train, y_temp = train_test_split(images, labels, test_size=0.2, random_state=42)\n",
    "X_val, X_test, y_val, y_test = train_test_split(X_temp, y_temp, test_size=0.5, random_state=42)\n"
   ]
  },
  {
   "cell_type": "markdown",
   "metadata": {},
   "source": [
    "The following snippets setup and train the model."
   ]
  },
  {
   "cell_type": "code",
   "execution_count": null,
   "metadata": {},
   "outputs": [],
   "source": [
    "from tensorflow.keras.applications import MobileNetV3Large\n",
    "from tensorflow.keras.models import Model\n",
    "from tensorflow.keras.layers import Dense, GlobalAveragePooling2D\n",
    "from tensorflow.keras.optimizers import Adam\n",
    "\n",
    "# Load pre-trained InceptionV3 model without top layers\n",
    "base_model = MobileNetV3Large(weights='imagenet', include_top=False, input_shape=(224, 224, 3))\n",
    "\n",
    "# Freeze the base model layers\n",
    "for layer in base_model.layers:\n",
    "    layer.trainable = False\n",
    "\n",
    "# Add your custom classifier layers\n",
    "x = base_model.output\n",
    "x = GlobalAveragePooling2D()(x)\n",
    "x = Dense(1024, activation='relu')(x)\n",
    "x = Dense(512, activation='relu')(x)\n",
    "x = Dense(128, activation='relu')(x)\n",
    "predictions = Dense(1, activation='sigmoid')(x)\n",
    "# Combine base model and custom layers into a new model\n",
    "model = Model(inputs=base_model.input, outputs=predictions)"
   ]
  },
  {
   "cell_type": "code",
   "execution_count": null,
   "metadata": {},
   "outputs": [],
   "source": [
    "# Compile the model\n",
    "model.compile(optimizer=Adam(learning_rate=0.001),\n",
    "              loss='binary_crossentropy',\n",
    "              metrics=['accuracy'])\n",
    "\n",
    "model.save('GBallDNN.keras')  # Save as keras file\n",
    "\n",
    "# Train the model\n",
    "history = model.fit(X_train, y_train, epochs=100, batch_size=32, validation_data=(X_val, y_val))\n",
    "\n",
    "# Evaluate the model on the test set\n",
    "test_loss, test_accuracy = model.evaluate(X_test, y_test)\n",
    "print(f\"Test Accuracy: {test_accuracy}\")"
   ]
  },
  {
   "cell_type": "markdown",
   "metadata": {},
   "source": [
    "# Test Model\n",
    "Code to process a new image test model."
   ]
  },
  {
   "cell_type": "code",
   "execution_count": null,
   "metadata": {},
   "outputs": [],
   "source": [
    "from tensorflow.keras.preprocessing.image import load_img, img_to_array\n",
    "\n",
    "# Example of loading and preprocessing a single new image\n",
    "def preprocess_image(image_path, target_size=(224, 224)):\n",
    "    img = load_img(image_path, target_size=target_size)\n",
    "    img_array = img_to_array(img)\n",
    "    img_array = img_array.reshape((1,) + img_array.shape)  # Add batch dimension\n",
    "    return img_array\n",
    "\n",
    "# Example usage:\n",
    "new_image_path = r'C:\\Users\\rogan\\Documents\\Programming\\GBallDNN\\GBallSet\\pracpred\\pracnoball.jpg'\n",
    "target_size = (224, 224)  # Adjust according to your model's input size\n",
    "\n",
    "preprocessed_image = preprocess_image(new_image_path, target_size)\n",
    "\n",
    "# Assuming `model` is your trained Keras model\n",
    "predictions = model.predict(preprocessed_image)\n",
    "\n",
    "# Assuming binary classification (0 or 1)\n",
    "predicted_class = predictions[0][0]  # Accessing the first prediction (single image, single class)\n",
    "\n",
    "print(predicted_class)\n",
    "\n",
    "if predicted_class < 0.5:\n",
    "    print(\"Predicted: Golf ball present\")\n",
    "else:\n",
    "    print(\"Predicted: No golf ball\")"
   ]
  }
 ],
 "metadata": {
  "kernelspec": {
   "display_name": "myenv",
   "language": "python",
   "name": "python3"
  },
  "language_info": {
   "codemirror_mode": {
    "name": "ipython",
    "version": 3
   },
   "file_extension": ".py",
   "mimetype": "text/x-python",
   "name": "python",
   "nbconvert_exporter": "python",
   "pygments_lexer": "ipython3",
   "version": "3.8.19"
  }
 },
 "nbformat": 4,
 "nbformat_minor": 2
}
